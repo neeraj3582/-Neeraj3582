{
 "cells": [
  {
   "cell_type": "code",
   "execution_count": 3,
   "id": "bb770e0d",
   "metadata": {},
   "outputs": [
    {
     "name": "stdout",
     "output_type": "stream",
     "text": [
      "world\n"
     ]
    }
   ],
   "source": [
    "print(\"world\")"
   ]
  },
  {
   "cell_type": "code",
   "execution_count": null,
   "id": "9178d1c6",
   "metadata": {},
   "outputs": [],
   "source": []
  },
  {
   "cell_type": "code",
   "execution_count": 4,
   "id": "132b5d5b",
   "metadata": {},
   "outputs": [
    {
     "name": "stdout",
     "output_type": "stream",
     "text": [
      "5\n"
     ]
    }
   ],
   "source": [
    "x=5\n",
    "print(x)"
   ]
  },
  {
   "cell_type": "code",
   "execution_count": 5,
   "id": "10ca6b5c",
   "metadata": {},
   "outputs": [
    {
     "name": "stdout",
     "output_type": "stream",
     "text": [
      "x=  5\n"
     ]
    }
   ],
   "source": [
    "print('x= ',x)\n"
   ]
  },
  {
   "cell_type": "code",
   "execution_count": 14,
   "id": "9283c3d9",
   "metadata": {},
   "outputs": [
    {
     "name": "stdout",
     "output_type": "stream",
     "text": [
      "ekta\n"
     ]
    }
   ],
   "source": [
    "x=5\n",
    "y=6\n",
    "if x>=y:\n",
    "    print('sdharth')\n",
    "    print('sid')\n",
    "else:\n",
    "    print('ekta')\n"
   ]
  },
  {
   "cell_type": "code",
   "execution_count": 19,
   "id": "9db2a3b5",
   "metadata": {},
   "outputs": [
    {
     "name": "stdout",
     "output_type": "stream",
     "text": [
      "I love Ekta\n"
     ]
    }
   ],
   "source": [
    "x=5\n",
    "y=7\n",
    "if y>5:\n",
    "    print('I love Ekta')"
   ]
  },
  {
   "cell_type": "code",
   "execution_count": 27,
   "id": "793b6ac5",
   "metadata": {},
   "outputs": [
    {
     "name": "stdout",
     "output_type": "stream",
     "text": [
      "5 is a <class 'type'> 5\n"
     ]
    }
   ],
   "source": [
    "print(x,'is a',type,x)"
   ]
  },
  {
   "cell_type": "code",
   "execution_count": 32,
   "id": "fd740d71",
   "metadata": {},
   "outputs": [
    {
     "data": {
      "text/plain": [
       "[1, 1, 'name', 10.0]"
      ]
     },
     "execution_count": 32,
     "metadata": {},
     "output_type": "execute_result"
    }
   ],
   "source": [
    "x = 1,1,'name',10.0\n",
    "list(x)"
   ]
  },
  {
   "cell_type": "code",
   "execution_count": 35,
   "id": "acf331bf",
   "metadata": {},
   "outputs": [
    {
     "name": "stdout",
     "output_type": "stream",
     "text": [
      "ekta\n"
     ]
    }
   ],
   "source": [
    "x=1\n",
    "y=2\n",
    "if x>y:\n",
    "    print('sid')\n",
    "elif x==y:\n",
    "    print('neeraj')\n",
    "else:\n",
    "    print('ekta')"
   ]
  }
 ],
 "metadata": {
  "kernelspec": {
   "display_name": "Python 3 (ipykernel)",
   "language": "python",
   "name": "python3"
  },
  "language_info": {
   "codemirror_mode": {
    "name": "ipython",
    "version": 3
   },
   "file_extension": ".py",
   "mimetype": "text/x-python",
   "name": "python",
   "nbconvert_exporter": "python",
   "pygments_lexer": "ipython3",
   "version": "3.9.7"
  }
 },
 "nbformat": 4,
 "nbformat_minor": 5
}
