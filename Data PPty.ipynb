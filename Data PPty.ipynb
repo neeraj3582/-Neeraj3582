{
 "cells": [
  {
   "cell_type": "code",
   "execution_count": null,
   "id": "f48bc2f5",
   "metadata": {},
   "outputs": [],
   "source": [
    "\"Id\",\"Sqft\",\"Floor\",\"TotalFloor\",\"Bedroom\",\"Living.Room\",\"Bathroom\",\"Price\"\n",
    "\"1\",1177.698,2,7,2,2,2,62000\n",
    "\"2\",2134.8,5,7,4,2,2,78000\n",
    "\"3\",1138.56,5,7,2,2,1,58000\n",
    "\"4\",1458.78,2,7,3,2,2,45000\n",
    "\"5\",967.776,11,14,3,2,2,45000\n",
    "\"6\",1127.886,11,12,4,2,2,148000\n",
    "\"7\",1352.04,5,7,3,2,1,58000\n",
    "\"8\",757.854,5,14,1,0,1,48000\n",
    "\"9\",1152.792,10,12,3,2,2,45000"
   ]
  }
 ],
 "metadata": {
  "kernelspec": {
   "display_name": "Python 3 (ipykernel)",
   "language": "python",
   "name": "python3"
  },
  "language_info": {
   "codemirror_mode": {
    "name": "ipython",
    "version": 3
   },
   "file_extension": ".py",
   "mimetype": "text/x-python",
   "name": "python",
   "nbconvert_exporter": "python",
   "pygments_lexer": "ipython3",
   "version": "3.9.7"
  }
 },
 "nbformat": 4,
 "nbformat_minor": 5
}
